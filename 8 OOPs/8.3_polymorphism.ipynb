{
 "cells": [
  {
   "cell_type": "code",
   "execution_count": null,
   "metadata": {},
   "outputs": [],
   "source": [
    "## Polymorphism"
   ]
  },
  {
   "cell_type": "code",
   "execution_count": 1,
   "metadata": {},
   "outputs": [],
   "source": [
    "## Polymorphism is the ability to use a common interface for multiple forms (data types)."
   ]
  },
  {
   "cell_type": "code",
   "execution_count": 2,
   "metadata": {},
   "outputs": [],
   "source": [
    "## Method Overriding\n",
    "## Method overriding is a feature that allows a subclass to provide a specific implementation of a method that is already provided by one of its superclasses."
   ]
  },
  {
   "cell_type": "code",
   "execution_count": 4,
   "metadata": {},
   "outputs": [
    {
     "name": "stdout",
     "output_type": "stream",
     "text": [
      "Dog barks\n",
      "Cat meows\n",
      "Dog barks\n"
     ]
    }
   ],
   "source": [
    "## Base class\n",
    "class Animal:\n",
    "    def speak(self):\n",
    "        return \"Animal speaks\"\n",
    "\n",
    "## Derived class1\n",
    "class Dog(Animal):\n",
    "    def speak(self):\n",
    "        return \"Dog barks\"\n",
    "    \n",
    "## Derived class2\n",
    "class Cat(Animal):\n",
    "    def speak(self):\n",
    "        return \"Cat meows\"\n",
    "\n",
    "## Function that demonstrates polymorphism\n",
    "def get_speak(animal):\n",
    "    return animal.speak()\n",
    "\n",
    "    \n",
    "dog = Dog()\n",
    "cat = Cat()\n",
    "print(dog.speak())  # Outputs: Dog barks\n",
    "print(cat.speak())  # Outputs: Cat meows\n",
    "print(get_speak(dog))  # Outputs: Dog barks"
   ]
  },
  {
   "cell_type": "code",
   "execution_count": 5,
   "metadata": {},
   "outputs": [
    {
     "name": "stdout",
     "output_type": "stream",
     "text": [
      "200\n",
      "314.0\n",
      "200\n",
      "314.0\n"
     ]
    }
   ],
   "source": [
    "## Polymorphism with a Function and methods\n",
    "\n",
    "## Base class\n",
    "class Shape:\n",
    "    def area(self):\n",
    "        return \"The area of figure\"\n",
    "\n",
    "## Derived class1\n",
    "class rectangle(Shape):\n",
    "    def __init__(self, length, width):\n",
    "        self.length = length\n",
    "        self.width = width\n",
    "    def area(self):\n",
    "        return self.length * self.width\n",
    "\n",
    "## Derived class2\n",
    "class circle(Shape):\n",
    "    def __init__(self, radius):\n",
    "        self.radius = radius\n",
    "    def area(self):\n",
    "        return 3.14 * self.radius * self.radius\n",
    "    \n",
    "## Function that demonstrates polymorphism\n",
    "def get_area(shape):\n",
    "    return shape.area()\n",
    "\n",
    "rectangle = rectangle(10, 20)\n",
    "circle = circle(10)\n",
    "print(rectangle.area())  # Outputs: 200\n",
    "print(circle.area())  # Outputs: 314.0\n",
    "print(get_area(rectangle))  # Outputs: 200  \n",
    "print(get_area(circle))  # Outputs: 314.0"
   ]
  },
  {
   "cell_type": "code",
   "execution_count": 6,
   "metadata": {},
   "outputs": [
    {
     "data": {
      "text/plain": [
       "'In this example, we will use the abstract base class to demonstrate polymorphism. We will create an abstract base class called Shape and two derived classes called Rectangle and Circle. The Shape class has an abstract method called area(). The Rectangle and Circle classes will provide the implementation of the area() method.'"
      ]
     },
     "execution_count": 6,
     "metadata": {},
     "output_type": "execute_result"
    }
   ],
   "source": [
    "## Polymorphism with abstract base class\n",
    "'''In this example, we will use the abstract base class to demonstrate polymorphism. We will create an abstract base class called Shape and two derived classes called Rectangle and Circle. The Shape class has an abstract method called area(). The Rectangle and Circle classes will provide the implementation of the area() method.'''"
   ]
  },
  {
   "cell_type": "code",
   "execution_count": 7,
   "metadata": {},
   "outputs": [
    {
     "name": "stdout",
     "output_type": "stream",
     "text": [
      "Car engine started\n"
     ]
    }
   ],
   "source": [
    "from abc import ABC, abstractmethod\n",
    "\n",
    "## Define an abstract base class\n",
    "class Veicle(ABC):\n",
    "    @abstractmethod\n",
    "    def start_engine(self):\n",
    "        pass\n",
    "\n",
    "## Derived class1\n",
    "class Car(Veicle):\n",
    "    def start_engine(self):\n",
    "        return \"Car engine started\"\n",
    "\n",
    "## Derived class2\n",
    "class Bike(Veicle):\n",
    "    def start_engine(self):\n",
    "        return \"Bike engine started\"\n",
    "    \n",
    "## Function that demonstrates polymorphism\n",
    "def start_engine(veicle):\n",
    "    return veicle.start_engine()\n",
    "\n",
    "## creating objects of the derived classes\n",
    "car = Car()\n",
    "bike = Bike()\n",
    "print(start_engine(car))  # Outputs: Car engine started"
   ]
  },
  {
   "cell_type": "code",
   "execution_count": null,
   "metadata": {},
   "outputs": [],
   "source": []
  }
 ],
 "metadata": {
  "kernelspec": {
   "display_name": "Python 3",
   "language": "python",
   "name": "python3"
  },
  "language_info": {
   "codemirror_mode": {
    "name": "ipython",
    "version": 3
   },
   "file_extension": ".py",
   "mimetype": "text/x-python",
   "name": "python",
   "nbconvert_exporter": "python",
   "pygments_lexer": "ipython3",
   "version": "3.12.0"
  }
 },
 "nbformat": 4,
 "nbformat_minor": 2
}
