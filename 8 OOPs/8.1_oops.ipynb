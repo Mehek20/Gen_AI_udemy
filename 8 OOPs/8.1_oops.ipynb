{
 "cells": [
  {
   "cell_type": "code",
   "execution_count": 1,
   "metadata": {},
   "outputs": [
    {
     "name": "stdout",
     "output_type": "stream",
     "text": [
      "<class '__main__.car'>\n"
     ]
    }
   ],
   "source": [
    "class car:\n",
    "    pass\n",
    "audi=car()\n",
    "bmw=car()\n",
    "print(type(audi))"
   ]
  },
  {
   "cell_type": "code",
   "execution_count": 2,
   "metadata": {},
   "outputs": [
    {
     "name": "stdout",
     "output_type": "stream",
     "text": [
      "<__main__.car object at 0x0000022692C9FE60>\n"
     ]
    }
   ],
   "source": [
    "## Attributes and Methods\n",
    "print(audi)"
   ]
  },
  {
   "cell_type": "code",
   "execution_count": 3,
   "metadata": {},
   "outputs": [
    {
     "name": "stdout",
     "output_type": "stream",
     "text": [
      "10\n"
     ]
    }
   ],
   "source": [
    "## Instance variable and methods\n",
    "audi.milage=10\n",
    "print(audi.milage)\n"
   ]
  },
  {
   "cell_type": "code",
   "execution_count": 6,
   "metadata": {},
   "outputs": [
    {
     "name": "stdout",
     "output_type": "stream",
     "text": [
      "Tommy\n"
     ]
    }
   ],
   "source": [
    "## Instance variable and methods\n",
    "class Dog:\n",
    "    ## constructor\n",
    "    def __init__(self,name,breed):\n",
    "        self.name=name    ## instance variable\n",
    "        self.breed=breed\n",
    "## creating object\n",
    "d=Dog('Tommy','Pug')\n",
    "print(d.name)"
   ]
  },
  {
   "cell_type": "code",
   "execution_count": 7,
   "metadata": {},
   "outputs": [
    {
     "name": "stdout",
     "output_type": "stream",
     "text": [
      "Tommy is barking\n"
     ]
    }
   ],
   "source": [
    "## Instance variable and methods\n",
    "class Dog:\n",
    "    ## constructor\n",
    "    def __init__(self,name,breed):\n",
    "        self.name=name    ## instance variable\n",
    "        self.breed=breed\n",
    "    def bark(self):       ## instance method\n",
    "        print(f\"{self.name} is barking\")\n",
    "## creating object\n",
    "d=Dog('Tommy','Pug')\n",
    "d.bark()"
   ]
  },
  {
   "cell_type": "code",
   "execution_count": 8,
   "metadata": {},
   "outputs": [
    {
     "name": "stdout",
     "output_type": "stream",
     "text": [
      "Tommy\n",
      "Available balance is 1000\n"
     ]
    }
   ],
   "source": [
    "## Modeling a bank account\n",
    "## Define a class BankAccount\n",
    "class BankAccount:\n",
    "    def __init__(self,owner,initial_balance=0):\n",
    "        self.owner=owner\n",
    "        self.balance=initial_balance\n",
    "    def deposit(self,amount):\n",
    "        self.balance+=amount\n",
    "        return f\"{amount} is deposited.. New balance is {self.balance}\"\n",
    "    def withdraw(self,amount):\n",
    "        if amount > self.balance:\n",
    "            return \"Insufficient balance\"\n",
    "        self.balance-=amount\n",
    "        return f\"{amount} is withdrawn.. New balance is {self.balance}\"\n",
    "    def get_balance(self):\n",
    "        return f\"Available balance is {self.balance}\"\n",
    "## creating object\n",
    "account=BankAccount('Tommy',1000)\n",
    "print(account.owner)\n",
    "print(account.get_balance())"
   ]
  },
  {
   "cell_type": "code",
   "execution_count": 9,
   "metadata": {},
   "outputs": [
    {
     "name": "stdout",
     "output_type": "stream",
     "text": [
      "500 is deposited.. New balance is 1500\n"
     ]
    }
   ],
   "source": [
    "## call instance method\n",
    "print(account.deposit(500))"
   ]
  },
  {
   "cell_type": "code",
   "execution_count": 10,
   "metadata": {},
   "outputs": [
    {
     "name": "stdout",
     "output_type": "stream",
     "text": [
      "Insufficient balance\n"
     ]
    }
   ],
   "source": [
    "print(account.withdraw(2000))"
   ]
  },
  {
   "cell_type": "code",
   "execution_count": 11,
   "metadata": {},
   "outputs": [
    {
     "name": "stdout",
     "output_type": "stream",
     "text": [
      "500 is withdrawn.. New balance is 1000\n"
     ]
    }
   ],
   "source": [
    "print(account.withdraw(500))"
   ]
  },
  {
   "cell_type": "code",
   "execution_count": null,
   "metadata": {},
   "outputs": [],
   "source": []
  }
 ],
 "metadata": {
  "kernelspec": {
   "display_name": "Python 3",
   "language": "python",
   "name": "python3"
  },
  "language_info": {
   "codemirror_mode": {
    "name": "ipython",
    "version": 3
   },
   "file_extension": ".py",
   "mimetype": "text/x-python",
   "name": "python",
   "nbconvert_exporter": "python",
   "pygments_lexer": "ipython3",
   "version": "3.12.0"
  }
 },
 "nbformat": 4,
 "nbformat_minor": 2
}
