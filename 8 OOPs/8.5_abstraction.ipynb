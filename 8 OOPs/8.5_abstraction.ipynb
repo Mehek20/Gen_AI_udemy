{
 "cells": [
  {
   "cell_type": "code",
   "execution_count": 1,
   "metadata": {},
   "outputs": [],
   "source": [
    "## Abstraction\n"
   ]
  },
  {
   "cell_type": "code",
   "execution_count": 1,
   "metadata": {},
   "outputs": [
    {
     "name": "stdout",
     "output_type": "stream",
     "text": [
      "Starting the engine\n",
      "('Starting the engine', 'Stopping the car', 'Driving the car')\n"
     ]
    }
   ],
   "source": [
    "from abc import ABC, abstractmethod\n",
    "\n",
    "## Abstract class\n",
    "class Veicle(ABC):\n",
    "    def start(self):\n",
    "        return \"Starting the engine\"\n",
    "\n",
    "    @abstractmethod\n",
    "    def stop(self):\n",
    "        pass\n",
    "\n",
    "    @abstractmethod\n",
    "    def drive(self):\n",
    "        pass\n",
    "\n",
    "## Concrete class\n",
    "class Car(Veicle):\n",
    "    def stop(self):\n",
    "        return \"Stopping the car\"\n",
    "\n",
    "    def drive(self):\n",
    "        return \"Driving the car\"\n",
    "def operate_veicle(veicle):\n",
    "    return veicle.start(), veicle.stop(), veicle.drive()\n",
    "car = Car()\n",
    "print(car.start())\n",
    "print(operate_veicle(car))"
   ]
  },
  {
   "cell_type": "code",
   "execution_count": null,
   "metadata": {},
   "outputs": [],
   "source": []
  }
 ],
 "metadata": {
  "kernelspec": {
   "display_name": "Python 3",
   "language": "python",
   "name": "python3"
  },
  "language_info": {
   "codemirror_mode": {
    "name": "ipython",
    "version": 3
   },
   "file_extension": ".py",
   "mimetype": "text/x-python",
   "name": "python",
   "nbconvert_exporter": "python",
   "pygments_lexer": "ipython3",
   "version": "3.12.0"
  }
 },
 "nbformat": 4,
 "nbformat_minor": 2
}
