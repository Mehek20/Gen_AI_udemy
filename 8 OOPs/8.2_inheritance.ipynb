{
 "cells": [
  {
   "cell_type": "code",
   "execution_count": null,
   "metadata": {},
   "outputs": [],
   "source": [
    "## Inheritance in python"
   ]
  },
  {
   "cell_type": "code",
   "execution_count": 1,
   "metadata": {},
   "outputs": [],
   "source": [
    "## Inheritance\n",
    "## Parent Class\n",
    "\n",
    "class car:\n",
    "    def __init__(self, windows, doors, enginetype):\n",
    "        self.windows = windows\n",
    "        self.doors = doors\n",
    "        self.enginetype = enginetype\n",
    "    \n",
    "    def drive(self):\n",
    "        print(f\"The person drives the {self.enginetype} car\")\n"
   ]
  },
  {
   "cell_type": "code",
   "execution_count": 2,
   "metadata": {},
   "outputs": [],
   "source": [
    "car1 = car(4, 5, \"Petrol\")"
   ]
  },
  {
   "cell_type": "code",
   "execution_count": 4,
   "metadata": {},
   "outputs": [
    {
     "name": "stdout",
     "output_type": "stream",
     "text": [
      "The person drives the Petrol car\n",
      "None\n"
     ]
    }
   ],
   "source": [
    "print(car1.drive())"
   ]
  },
  {
   "cell_type": "code",
   "execution_count": 5,
   "metadata": {},
   "outputs": [],
   "source": [
    "class tesla(car):\n",
    "    def __init__(self, windows, doors, enginetype, autopilot):\n",
    "        super().__init__(windows, doors, enginetype)\n",
    "        self.autopilot = autopilot\n",
    "    def self_driving(self):\n",
    "        print(f\"The car is on autopilot {self.autopilot} mode\")"
   ]
  },
  {
   "cell_type": "code",
   "execution_count": 6,
   "metadata": {},
   "outputs": [
    {
     "name": "stdout",
     "output_type": "stream",
     "text": [
      "The car is on autopilot True mode\n"
     ]
    }
   ],
   "source": [
    "tesla1 = tesla(4, 5, \"Electric\", True)\n",
    "tesla1.self_driving()"
   ]
  },
  {
   "cell_type": "code",
   "execution_count": 7,
   "metadata": {},
   "outputs": [],
   "source": [
    "## Multiple Inheritance\n",
    "'''Multiple inheritance is a feature of object-oriented programming (OOP) that allows a class to inherit properties from more than one parent class.'''\n",
    "class animal:\n",
    "    def __init__(self,name):\n",
    "        self.name=name\n",
    "    def speak(self):\n",
    "        print(f\"{self.name} can speak\")\n",
    "## Base class\n",
    "class pet:\n",
    "    def __init__(self,owner):\n",
    "        self.owner=owner\n",
    "## Derived class\n",
    "class dog(animal,pet):\n",
    "    def __init__(self,name,owner):\n",
    "        animal.__init__(self,name)\n",
    "        pet.__init__(self,owner)\n",
    "        print(f\"{self.name} is owned by {self.owner}\")"
   ]
  },
  {
   "cell_type": "code",
   "execution_count": 8,
   "metadata": {},
   "outputs": [
    {
     "name": "stdout",
     "output_type": "stream",
     "text": [
      "Tommy is owned by John\n",
      "owner of the dog is John\n"
     ]
    }
   ],
   "source": [
    "dog1=dog(\"Tommy\",\"John\")\n",
    "print(f\"owner of the dog is {dog1.owner}\")"
   ]
  },
  {
   "cell_type": "code",
   "execution_count": null,
   "metadata": {},
   "outputs": [],
   "source": []
  }
 ],
 "metadata": {
  "kernelspec": {
   "display_name": "Python 3",
   "language": "python",
   "name": "python3"
  },
  "language_info": {
   "codemirror_mode": {
    "name": "ipython",
    "version": 3
   },
   "file_extension": ".py",
   "mimetype": "text/x-python",
   "name": "python",
   "nbconvert_exporter": "python",
   "pygments_lexer": "ipython3",
   "version": "3.12.0"
  }
 },
 "nbformat": 4,
 "nbformat_minor": 2
}
